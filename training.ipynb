{
 "cells": [
  {
   "metadata": {
    "ExecuteTime": {
     "end_time": "2025-06-11T09:41:53.085010Z",
     "start_time": "2025-06-11T09:41:50.953872Z"
    }
   },
   "cell_type": "code",
   "source": [
    "import numpy as np\n",
    "import pandas as pd\n",
    "import tensorflow as tf\n",
    "from keras import layers, models\n",
    "from keras.utils import load_img, img_to_array\n",
    "from matplotlib import pyplot as plt\n",
    "import os\n",
    "import re\n",
    "import pandas as pd\n",
    "from collections import defaultdict\n",
    "import matplotlib.colors as mcolors\n",
    "\n",
    "\n",
    "# --- COLOR SPACE UTILITIES ---\n",
    "def hex_to_rgb(hex_color):\n",
    "    return [int(hex_color[i:i+2], 16)/255.0 for i in (0, 2, 4)]\n",
    "\n",
    "def f(t):\n",
    "    delta = 6/29\n",
    "    return np.where(t > delta**3, np.cbrt(t), (t / (3 * delta**2)) + (4/29))\n",
    "\n",
    "def inv_f(t):\n",
    "    delta = 6/29\n",
    "    return np.where(t > delta, t**3, 3 * delta**2 * (t - 4/29))\n",
    "\n",
    "def inv_gamma_correct(c):\n",
    "    return np.where(c <= 0.0031308, 12.92 * c, 1.055 * np.power(c, 1/2.4) - 0.055)\n",
    "\n",
    "def lab_normalize(lab):\n",
    "    return (lab + np.array([0, 128, 128])) / np.array([100, 255, 255])\n",
    "\n",
    "def lab_unnorm(lab):\n",
    "    return lab * np.array([100, 255, 255]) - np.array([0, 128, 128])\n",
    "\n",
    "def lab_to_rgb(lab):\n",
    "    L, a, b = lab\n",
    "    fy = (L + 16) / 116\n",
    "    fx = fy + a / 500\n",
    "    fz = fy - b / 200\n",
    "    xyz = np.array([\n",
    "        0.95047 * inv_f(fx),\n",
    "        1.00000 * inv_f(fy),\n",
    "        1.08883 * inv_f(fz)\n",
    "    ])\n",
    "    rgb_lin = np.array([\n",
    "        3.2406 * xyz[0] - 1.5372 * xyz[1] - 0.4986 * xyz[2],\n",
    "        -0.9689 * xyz[0] + 1.8758 * xyz[1] + 0.0415 * xyz[2],\n",
    "        0.0557 * xyz[0] - 0.2040 * xyz[1] + 1.0570 * xyz[2]\n",
    "    ])\n",
    "    rgb = inv_gamma_correct(np.clip(rgb_lin, 0, 1))\n",
    "    return np.clip(rgb, 0, 1)\n",
    "\n",
    "def rgb_to_hex(rgb):\n",
    "    return '#{:02x}{:02x}{:02x}'.format(int(rgb[0]*255), int(rgb[1]*255), int(rgb[2]*255))\n",
    "\n",
    "def convert_lab(image):\n",
    "    mask = image > 0.04045\n",
    "    img_linear = np.where(mask, ((image + 0.055) / 1.055) ** 2.4, image / 12.92)\n",
    "    R, G, B = img_linear[..., 0], img_linear[..., 1], img_linear[..., 2]\n",
    "    X = (0.4124564 * R + 0.3575761 * G + 0.1804375 * B) / 0.950489\n",
    "    Y = (0.2126729 * R + 0.7151522 * G + 0.0721750 * B) / 1.0\n",
    "    Z = (0.0193339 * R + 0.1191920 * G + 0.9503041 * B) / 1.088840\n",
    "    X, Y, Z = f(X), f(Y), f(Z)\n",
    "    L = 116.0 * Y - 16.0\n",
    "    a = 500.0 * (X - Y)\n",
    "    b = 200.0 * (Y - Z)\n",
    "    return np.stack([L, a, b], axis=-1)\n",
    "\n",
    "def make_dataset():\n",
    "    basedir = \"/home/drabcio/Pobrane/OneDrive_1_26.04.2025//Res_ColorPickerCustomPicker\"\n",
    "    df = pd.DataFrame(columns=[\"file\",\"image\",\"colors\"])\n",
    "\n",
    "    for file in os.listdir(basedir):\n",
    "        filepath = os.path.join(basedir, file)\n",
    "        if re.match(r\".*\\d{2}\\.txt\", file):\n",
    "            with open(filepath, \"r\") as f:\n",
    "                for line in f:\n",
    "                    parts = line.strip().split()\n",
    "                    if not parts: continue\n",
    "                    image = parts[0]\n",
    "                    colors = [c.strip(\",\") for c in parts[1:]]\n",
    "                    colors = [c.replace('#','') for c in colors]\n",
    "                    df = pd.concat([df, pd.DataFrame({\"file\": file, \"image\": image, \"colors\": colors})], ignore_index=True)\n",
    "    return df\n",
    "\n",
    "def hex_to_rgb_tuple(hex_color):\n",
    "    return mcolors.to_rgb(hex_color)"
   ],
   "id": "82bd60e5e41c5d24",
   "outputs": [
    {
     "name": "stderr",
     "output_type": "stream",
     "text": [
      "2025-06-11 11:41:51.399641: I external/local_xla/xla/tsl/cuda/cudart_stub.cc:32] Could not find cuda drivers on your machine, GPU will not be used.\n",
      "2025-06-11 11:41:51.402706: I external/local_xla/xla/tsl/cuda/cudart_stub.cc:32] Could not find cuda drivers on your machine, GPU will not be used.\n",
      "2025-06-11 11:41:51.409873: E external/local_xla/xla/stream_executor/cuda/cuda_fft.cc:467] Unable to register cuFFT factory: Attempting to register factory for plugin cuFFT when one has already been registered\n",
      "WARNING: All log messages before absl::InitializeLog() is called are written to STDERR\n",
      "E0000 00:00:1749634911.421518  158955 cuda_dnn.cc:8579] Unable to register cuDNN factory: Attempting to register factory for plugin cuDNN when one has already been registered\n",
      "E0000 00:00:1749634911.424951  158955 cuda_blas.cc:1407] Unable to register cuBLAS factory: Attempting to register factory for plugin cuBLAS when one has already been registered\n",
      "W0000 00:00:1749634911.437896  158955 computation_placer.cc:177] computation placer already registered. Please check linkage and avoid linking the same target more than once.\n",
      "W0000 00:00:1749634911.437905  158955 computation_placer.cc:177] computation placer already registered. Please check linkage and avoid linking the same target more than once.\n",
      "W0000 00:00:1749634911.437906  158955 computation_placer.cc:177] computation placer already registered. Please check linkage and avoid linking the same target more than once.\n",
      "W0000 00:00:1749634911.437907  158955 computation_placer.cc:177] computation placer already registered. Please check linkage and avoid linking the same target more than once.\n",
      "2025-06-11 11:41:51.441339: I tensorflow/core/platform/cpu_feature_guard.cc:210] This TensorFlow binary is optimized to use available CPU instructions in performance-critical operations.\n",
      "To enable the following instructions: AVX2 FMA, in other operations, rebuild TensorFlow with the appropriate compiler flags.\n"
     ]
    }
   ],
   "execution_count": 1
  },
  {
   "metadata": {
    "ExecuteTime": {
     "end_time": "2025-06-11T09:41:58.344383Z",
     "start_time": "2025-06-11T09:41:58.339454Z"
    }
   },
   "cell_type": "code",
   "source": [
    "import numpy as np\n",
    "# Test Lab conversion\n",
    "rgb_color = np.array([0.5, 0.2, 0.8]) # Example RGB color\n",
    "lab_color = convert_lab(rgb_color)\n",
    "print(f\"RGB: {rgb_color}\")\n",
    "print(f\"Lab: {lab_color}\")\n",
    "\n",
    "# Convert back to RGB to check\n",
    "rgb_back = lab_to_rgb(lab_color)\n",
    "print(f\"RGB back from Lab: {rgb_back}\")\n",
    "\n",
    "# Test normalization and unnormalization\n",
    "normalized_lab = lab_normalize(lab_color)\n",
    "print(f\"Normalized Lab: {normalized_lab}\")\n",
    "\n",
    "unnormalized_lab = lab_unnorm(normalized_lab)\n",
    "print(f\"Unnormalized Lab: {unnormalized_lab}\")\n",
    "\n",
    "# Test with hex\n",
    "hex_color = \"ff0000\" # Red\n",
    "rgb_from_hex = hex_to_rgb(hex_color)\n",
    "print(f\"Hex: {hex_color}, RGB from hex: {rgb_from_hex}\")\n",
    "\n",
    "# Test hex to rgb tuple\n",
    "rgb_tuple_from_hex = hex_to_rgb_tuple(\"#\"+hex_color)\n",
    "print(f\"Hex: {hex_color}, RGB tuple from hex: {rgb_tuple_from_hex}\")\n",
    "\n",
    "# Test rgb to hex\n",
    "hex_from_rgb = rgb_to_hex(rgb_from_hex)\n",
    "print(f\"RGB: {rgb_from_hex}, Hex from RGB: {hex_from_rgb}\")"
   ],
   "id": "8f9f9ebfc0085f9d",
   "outputs": [
    {
     "name": "stdout",
     "output_type": "stream",
     "text": [
      "RGB: [0.5 0.2 0.8]\n",
      "Lab: [ 40.04429601  60.25375574 -65.67457626]\n",
      "RGB back from Lab: [0.49997055 0.20007704 0.79992792]\n",
      "Normalized Lab: [0.40044296 0.73825002 0.24441343]\n",
      "Unnormalized Lab: [ 40.04429601  60.25375574 -65.67457626]\n",
      "Hex: ff0000, RGB from hex: [1.0, 0.0, 0.0]\n",
      "Hex: ff0000, RGB tuple from hex: (1.0, 0.0, 0.0)\n",
      "RGB: [1.0, 0.0, 0.0], Hex from RGB: #ff0000\n"
     ]
    }
   ],
   "execution_count": 4
  },
  {
   "metadata": {
    "ExecuteTime": {
     "end_time": "2025-06-11T09:42:03.897968Z",
     "start_time": "2025-06-11T09:42:00.408855Z"
    }
   },
   "cell_type": "code",
   "source": [
    "# --- DATA PREPARATION ---\n",
    "# Load and process your dataframe\n",
    "\n",
    "df = make_dataset()\n",
    "\n",
    "df_grouped = df.groupby('image')['colors'].apply(list).reset_index()\n",
    "df_grouped['lab'] = df_grouped['colors'].apply(\n",
    "    lambda colors: np.mean([convert_lab(np.array(hex_to_rgb(c))) for c in colors], axis=0)\n",
    ")\n",
    "df_grouped['target_rgb'] = df_grouped['colors'].apply(\n",
    "    lambda colors: np.mean([hex_to_rgb(c) for c in colors], axis=0)\n",
    ")\n",
    "basedir = \"/home/drabcio/Pobrane/OneDrive_1_26.04.2025//PhotosColorPicker/\"\n",
    "#df_grouped['lab'] = df_grouped['target_rgb'].apply(convert_lab)\n",
    "df_grouped['image_path'] = basedir + df_grouped['image']\n",
    "print(df_grouped)\n",
    "\n",
    "# Load image tensors\n",
    "def load_image(path):\n",
    "    img = load_img(path, target_size=(64, 64))\n",
    "    rgb_norm = img_to_array(img) / 255.0\n",
    "    lab = convert_lab(rgb_norm)\n",
    "    return lab_normalize(lab)\n",
    "\n",
    "image_tensors = tf.stack([load_image(path) for path in df_grouped['image_path']])\n",
    "labs = np.stack(df_grouped['lab'].values)\n",
    "labels = np.array(lab_normalize(labs).astype(np.float64))\n",
    "# labels = np.array(df_grouped['target_rgb'].values.tolist(), dtype=np.float64)\n",
    "\n",
    "# print(\"im:\",image_tensors)\n",
    "# print(\"lb:\",labels)\n",
    "\n",
    "# TF dataset\n",
    "dataset = tf.data.Dataset.from_tensor_slices((image_tensors, labels)).shuffle(buffer_size=len(image_tensors))\n",
    "val_size = int(0.2 * len(image_tensors))\n",
    "train_dataset = dataset.skip(val_size).batch(32)\n",
    "val_dataset = dataset.take(val_size).batch(32)"
   ],
   "id": "ba12e8faf4d4a4e5",
   "outputs": [
    {
     "name": "stdout",
     "output_type": "stream",
     "text": [
      "               image                                             colors  \\\n",
      "0   000000010432.jpg  [af885a, af7a3e, FFFFFF, 998b49, 636668, 5e8e5...   \n",
      "1   000000014824.jpg  [6a67c9, 6666c9, 4a49c9, 6869c9, 4d50c9, 7833c...   \n",
      "2   000000022423.jpg  [b4c9a1, b5d695, cfced6, bfd698, d4d2d6, d5d6b...   \n",
      "3   000000023019.jpg  [ba78b6, aa74ba, ba6c42, ba65af, ba6628, 696b6...   \n",
      "4   000000029255.jpg  [5951c6, 543bc6, 5e4b20, 4736aa, 5e4c1f, 6776a...   \n",
      "..               ...                                                ...   \n",
      "81  000000537131.jpg  [936244, 936342, 7a9393, 936c50, 7d7f93, 934a0...   \n",
      "82  000000547938.jpg  [aa9e4e, aa9f47, 97aa7d, aa8548, 84aa63, aa977...   \n",
      "83  000000556123.jpg  [89a38f, 87a390, 9aa38e, 86a38c, 9aa38d, 9a9fa...   \n",
      "84  000000562160.jpg  [af501d, af6019, 7e8faf, af5e19, 8a92af, af260...   \n",
      "85  000000572756.jpg  [b38fbf, ad8bbf, aeb0bf, b781bf, 9c9dbf, 8e96b...   \n",
      "\n",
      "                                                  lab  \\\n",
      "0   [64.14435283600555, -11.018014161182222, 41.82...   \n",
      "1   [49.56160302043246, 36.33841286622599, -14.968...   \n",
      "2   [64.34531301869582, -15.298682884825176, 17.03...   \n",
      "3   [47.54331979239745, 20.23040606275782, -9.8274...   \n",
      "4   [51.34846195162846, 20.06156971681031, -30.603...   \n",
      "..                                                ...   \n",
      "81  [52.34263769513058, 21.812456120114685, 28.160...   \n",
      "82  [46.69584822821477, -9.73097315076439, 16.8572...   \n",
      "83  [59.40995024938714, -14.00244576892281, 21.609...   \n",
      "84  [56.84934784782548, 22.65811920899886, 28.7740...   \n",
      "85  [67.98236474789671, 19.02938314128294, -22.184...   \n",
      "\n",
      "                                           target_rgb  \\\n",
      "0   [0.6267260843731431, 0.6415923945335704, 0.269...   \n",
      "1   [0.5345454545454548, 0.3327153891859779, 0.567...   \n",
      "2   [0.5384194890077242, 0.6452644087938192, 0.489...   \n",
      "3   [0.5240998217468806, 0.39080213903743344, 0.51...   \n",
      "4   [0.4225311942959007, 0.4413784907902555, 0.690...   \n",
      "..                                                ...   \n",
      "81  [0.6579679144385007, 0.4150326797385621, 0.307...   \n",
      "82  [0.3944503862150922, 0.4514795008912654, 0.325...   \n",
      "83  [0.4949257278669046, 0.59124183006536, 0.40865...   \n",
      "84  [0.7015092097445036, 0.45961972667855067, 0.33...   \n",
      "85  [0.672430184194891, 0.6087819370172314, 0.8099...   \n",
      "\n",
      "                                           image_path  \n",
      "0   /home/drabcio/Pobrane/OneDrive_1_26.04.2025//P...  \n",
      "1   /home/drabcio/Pobrane/OneDrive_1_26.04.2025//P...  \n",
      "2   /home/drabcio/Pobrane/OneDrive_1_26.04.2025//P...  \n",
      "3   /home/drabcio/Pobrane/OneDrive_1_26.04.2025//P...  \n",
      "4   /home/drabcio/Pobrane/OneDrive_1_26.04.2025//P...  \n",
      "..                                                ...  \n",
      "81  /home/drabcio/Pobrane/OneDrive_1_26.04.2025//P...  \n",
      "82  /home/drabcio/Pobrane/OneDrive_1_26.04.2025//P...  \n",
      "83  /home/drabcio/Pobrane/OneDrive_1_26.04.2025//P...  \n",
      "84  /home/drabcio/Pobrane/OneDrive_1_26.04.2025//P...  \n",
      "85  /home/drabcio/Pobrane/OneDrive_1_26.04.2025//P...  \n",
      "\n",
      "[86 rows x 5 columns]\n"
     ]
    },
    {
     "name": "stderr",
     "output_type": "stream",
     "text": [
      "2025-06-11 11:42:03.669691: E external/local_xla/xla/stream_executor/cuda/cuda_platform.cc:51] failed call to cuInit: INTERNAL: CUDA error: Failed call to cuInit: UNKNOWN ERROR (303)\n"
     ]
    }
   ],
   "execution_count": 5
  },
  {
   "metadata": {
    "ExecuteTime": {
     "end_time": "2025-06-11T09:42:10.491071Z",
     "start_time": "2025-06-11T09:42:08.414159Z"
    }
   },
   "cell_type": "code",
   "source": [
    "# --- MODEL DEFINITION ---\n",
    "model = models.Sequential([\n",
    "    layers.Input(shape=(64, 64, 3)),\n",
    "    layers.Conv2D(32, (3, 3), activation='relu'),\n",
    "    layers.MaxPooling2D((2, 2)),\n",
    "    layers.Conv2D(64, (3, 3), activation='relu'),\n",
    "    layers.MaxPooling2D((2, 2)),\n",
    "    layers.Flatten(),\n",
    "    layers.Dense(128, activation='relu'),\n",
    "    layers.Dense(3, activation='sigmoid')\n",
    "])\n",
    "\n",
    "# model = models.Sequential([\n",
    "#     layers.Input(shape=(64, 64, 3)),\n",
    "#     layers.Conv2D(32, (7, 7), activation='relu'),\n",
    "#     layers.MaxPooling2D(2, 2),\n",
    "#     layers.Conv2D(64, (3, 3), activation='relu'),\n",
    "#     layers.MaxPooling2D(4, 4),\n",
    "#     layers.Flatten(),\n",
    "#     layers.Dense(3*256, activation='relu'),\n",
    "#     layers.Dropout(0.3),\n",
    "#     layers.Dense(3, activation='sigmoid')  # Predict L, a, b\n",
    "# ])\n",
    "# !\n",
    "\n",
    "# model = models.Sequential([\n",
    "# layers.Input(shape=(64, 64, 3)),\n",
    "# layers.Conv2D(32, (3, 3), activation='relu'),\n",
    "# layers.MaxPooling2D((2, 2)),\n",
    "# layers.Conv2D(64, (3, 3), activation='relu'),\n",
    "# layers.MaxPooling2D((2, 2)),\n",
    "# layers.Flatten(),\n",
    "# layers.Dense(128, activation='relu'),\n",
    "# layers.Dense(3, activation='sigmoid') # RGB values between 0 and 1\n",
    "# ])\n",
    "\n",
    "model.compile(optimizer=tf.keras.optimizers.Adam(amsgrad=True, learning_rate=10**-3), loss='mse')\n",
    "model.fit(train_dataset, epochs=15, validation_data=val_dataset)\n",
    "\n"
   ],
   "id": "80e68f506173859b",
   "outputs": [
    {
     "name": "stdout",
     "output_type": "stream",
     "text": [
      "Epoch 1/15\n",
      "\u001B[1m3/3\u001B[0m \u001B[32m━━━━━━━━━━━━━━━━━━━━\u001B[0m\u001B[37m\u001B[0m \u001B[1m1s\u001B[0m 58ms/step - loss: 0.0458 - val_loss: 0.0243\n",
      "Epoch 2/15\n",
      "\u001B[1m3/3\u001B[0m \u001B[32m━━━━━━━━━━━━━━━━━━━━\u001B[0m\u001B[37m\u001B[0m \u001B[1m0s\u001B[0m 26ms/step - loss: 0.0173 - val_loss: 0.0175\n",
      "Epoch 3/15\n",
      "\u001B[1m3/3\u001B[0m \u001B[32m━━━━━━━━━━━━━━━━━━━━\u001B[0m\u001B[37m\u001B[0m \u001B[1m0s\u001B[0m 25ms/step - loss: 0.0125 - val_loss: 0.0107\n",
      "Epoch 4/15\n",
      "\u001B[1m3/3\u001B[0m \u001B[32m━━━━━━━━━━━━━━━━━━━━\u001B[0m\u001B[37m\u001B[0m \u001B[1m0s\u001B[0m 26ms/step - loss: 0.0101 - val_loss: 0.0085\n",
      "Epoch 5/15\n",
      "\u001B[1m3/3\u001B[0m \u001B[32m━━━━━━━━━━━━━━━━━━━━\u001B[0m\u001B[37m\u001B[0m \u001B[1m0s\u001B[0m 25ms/step - loss: 0.0070 - val_loss: 0.0084\n",
      "Epoch 6/15\n",
      "\u001B[1m3/3\u001B[0m \u001B[32m━━━━━━━━━━━━━━━━━━━━\u001B[0m\u001B[37m\u001B[0m \u001B[1m0s\u001B[0m 25ms/step - loss: 0.0066 - val_loss: 0.0070\n",
      "Epoch 7/15\n",
      "\u001B[1m3/3\u001B[0m \u001B[32m━━━━━━━━━━━━━━━━━━━━\u001B[0m\u001B[37m\u001B[0m \u001B[1m0s\u001B[0m 25ms/step - loss: 0.0055 - val_loss: 0.0052\n",
      "Epoch 8/15\n",
      "\u001B[1m3/3\u001B[0m \u001B[32m━━━━━━━━━━━━━━━━━━━━\u001B[0m\u001B[37m\u001B[0m \u001B[1m0s\u001B[0m 27ms/step - loss: 0.0049 - val_loss: 0.0047\n",
      "Epoch 9/15\n",
      "\u001B[1m3/3\u001B[0m \u001B[32m━━━━━━━━━━━━━━━━━━━━\u001B[0m\u001B[37m\u001B[0m \u001B[1m0s\u001B[0m 25ms/step - loss: 0.0039 - val_loss: 0.0034\n",
      "Epoch 10/15\n",
      "\u001B[1m3/3\u001B[0m \u001B[32m━━━━━━━━━━━━━━━━━━━━\u001B[0m\u001B[37m\u001B[0m \u001B[1m0s\u001B[0m 24ms/step - loss: 0.0034 - val_loss: 0.0036\n",
      "Epoch 11/15\n",
      "\u001B[1m3/3\u001B[0m \u001B[32m━━━━━━━━━━━━━━━━━━━━\u001B[0m\u001B[37m\u001B[0m \u001B[1m0s\u001B[0m 25ms/step - loss: 0.0029 - val_loss: 0.0030\n",
      "Epoch 12/15\n",
      "\u001B[1m3/3\u001B[0m \u001B[32m━━━━━━━━━━━━━━━━━━━━\u001B[0m\u001B[37m\u001B[0m \u001B[1m0s\u001B[0m 25ms/step - loss: 0.0034 - val_loss: 0.0021\n",
      "Epoch 13/15\n",
      "\u001B[1m3/3\u001B[0m \u001B[32m━━━━━━━━━━━━━━━━━━━━\u001B[0m\u001B[37m\u001B[0m \u001B[1m0s\u001B[0m 26ms/step - loss: 0.0028 - val_loss: 0.0035\n",
      "Epoch 14/15\n",
      "\u001B[1m3/3\u001B[0m \u001B[32m━━━━━━━━━━━━━━━━━━━━\u001B[0m\u001B[37m\u001B[0m \u001B[1m0s\u001B[0m 26ms/step - loss: 0.0030 - val_loss: 0.0024\n",
      "Epoch 15/15\n",
      "\u001B[1m3/3\u001B[0m \u001B[32m━━━━━━━━━━━━━━━━━━━━\u001B[0m\u001B[37m\u001B[0m \u001B[1m0s\u001B[0m 27ms/step - loss: 0.0023 - val_loss: 0.0028\n"
     ]
    },
    {
     "data": {
      "text/plain": [
       "<keras.src.callbacks.history.History at 0x7f025b5aee90>"
      ]
     },
     "execution_count": 6,
     "metadata": {},
     "output_type": "execute_result"
    }
   ],
   "execution_count": 6
  },
  {
   "metadata": {
    "ExecuteTime": {
     "end_time": "2025-06-11T09:42:14.424435Z",
     "start_time": "2025-06-11T09:42:14.293449Z"
    }
   },
   "cell_type": "code",
   "source": [
    "# --- EVALUATION ---\n",
    "from colormath.color_objects import LabColor\n",
    "from colormath.color_diff import delta_e_cmc\n",
    "\n",
    "def mae(predictions, truth):\n",
    "    return np.mean(np.abs(predictions - truth))\n",
    "\n",
    "def rmse(predictions, truth):\n",
    "    return np.sqrt(np.mean((predictions - truth)**2))\n",
    "\n",
    "def safe_compare(predictions, truth):\n",
    "    eps = 1e-6\n",
    "    return np.mean(np.abs(predictions - truth) / (np.abs(truth) + eps), axis=0)\n",
    "\n",
    "all_preds = model.predict(tf.data.Dataset.from_tensor_slices(image_tensors).batch(32))\n",
    "val_predicts = model.predict(val_dataset)\n",
    "print(\"Compare %:\", safe_compare(val_predicts, labels[:len(val_predicts)]) * 100)\n",
    "print(\"MAE:\", mae(val_predicts, labels[:len(val_predicts)]))\n",
    "print(\"RMSE:\", rmse(val_predicts, labels[:len(val_predicts)]))\n",
    "\n",
    "\n",
    "for i in range(5):\n",
    "    p = (((val_predicts[i])))\n",
    "    t = ((labels[i]))\n",
    "    print(\"Predicted:\", rgb_to_hex(p), \"True:\", rgb_to_hex(t))\n",
    "# --- PREDICTION VISUALIZATION ---\n",
    "def show_colors(hex_list, titles=None):\n",
    "    fig, ax = plt.subplots(1, len(hex_list), figsize=(len(hex_list) * 2, 2))\n",
    "    if len(hex_list) == 1:\n",
    "        ax = [ax]\n",
    "    for i, hex_color in enumerate(hex_list):\n",
    "        rgb = np.array([[hex_to_rgb_tuple(hex_color)]])\n",
    "        ax[i].imshow(rgb)\n",
    "        ax[i].axis(\"off\")\n",
    "        if titles:\n",
    "            ax[i].set_title(titles[i])\n",
    "    plt.tight_layout()\n",
    "    plt.show()"
   ],
   "id": "e5e8cbff7390ac6a",
   "outputs": [
    {
     "name": "stdout",
     "output_type": "stream",
     "text": [
      "\u001B[1m3/3\u001B[0m \u001B[32m━━━━━━━━━━━━━━━━━━━━\u001B[0m\u001B[37m\u001B[0m \u001B[1m0s\u001B[0m 19ms/step\n",
      "\u001B[1m1/1\u001B[0m \u001B[32m━━━━━━━━━━━━━━━━━━━━\u001B[0m\u001B[37m\u001B[0m \u001B[1m0s\u001B[0m 35ms/step\n",
      "Compare %: [18.64605183 14.09377208 21.92782051]\n",
      "MAE: 0.09575257472589438\n",
      "RMSE: 0.11960188580279739\n",
      "Predicted: #9b8684 True: #a374a9\n",
      "Predicted: #928b8d True: #7ea471\n",
      "Predicted: #8a916c True: #a47091\n",
      "Predicted: #899664 True: #799476\n",
      "Predicted: #b566b1 True: #829461\n"
     ]
    }
   ],
   "execution_count": 7
  },
  {
   "metadata": {
    "ExecuteTime": {
     "end_time": "2025-06-11T09:42:47.449928Z",
     "start_time": "2025-06-11T09:42:47.346070Z"
    }
   },
   "cell_type": "code",
   "source": [
    "# Predict on new image\n",
    "image_path = \"/home/drabcio/Pobrane/OneDrive_1_26.04.2025/PhotosColorPicker/000000452354.jpg\"\n",
    "image = load_img(image_path, target_size=(64, 64))\n",
    "img_array = img_to_array(image) / 255.0\n",
    "lab_image = convert_lab(img_array)\n",
    "lab_normed = lab_normalize(lab_image)\n",
    "input_arr = np.expand_dims(lab_normed, axis=0)\n",
    "prediction = model.predict(input_arr)[0]\n",
    "lab_pred = lab_unnorm(prediction)\n",
    "rgb_pred = lab_to_rgb(lab_pred)\n",
    "pred_hex = rgb_to_hex(rgb_pred)\n",
    "\n",
    "true_rgb = lab_to_rgb(df_grouped[df_grouped['image'] == \"000000452354.jpg\"][\"lab\"].values[0])\n",
    "true_hex = rgb_to_hex(true_rgb)\n",
    "print(\"Lab true:\", df_grouped[df_grouped['image'] == \"000000452354.jpg\"][\"lab\"].values[0])\n",
    "print(\"Predicted color:\", pred_hex)\n",
    "print(\"True color:\", true_hex)\n",
    "show_colors([pred_hex, true_hex], [\"Predicted\", \"True\"])\n",
    "\n",
    "\n",
    "\n",
    "#1 lipca - 3 miesiące, kwestionarusz"
   ],
   "id": "883c8d05289f6ccc",
   "outputs": [
    {
     "name": "stdout",
     "output_type": "stream",
     "text": [
      "\u001B[1m1/1\u001B[0m \u001B[32m━━━━━━━━━━━━━━━━━━━━\u001B[0m\u001B[37m\u001B[0m \u001B[1m0s\u001B[0m 17ms/step\n",
      "Lab true: [ 50.32086687  13.00972023 -34.23091913]\n",
      "Predicted color: #8b79ab\n",
      "True color: #6b73b1\n"
     ]
    },
    {
     "data": {
      "text/plain": [
       "<Figure size 400x200 with 2 Axes>"
      ],
      "image/png": "[encoded data removed]"
     },
     "metadata": {},
     "output_type": "display_data"
    }
   ],
   "execution_count": 10
  }
 ],
 "metadata": {
  "kernelspec": {
   "display_name": "Python 3",
   "language": "python",
   "name": "python3"
  },
  "language_info": {
   "codemirror_mode": {
    "name": "ipython",
    "version": 2
   },
   "file_extension": ".py",
   "mimetype": "text/x-python",
   "name": "python",
   "nbconvert_exporter": "python",
   "pygments_lexer": "ipython2",
   "version": "2.7.6"
  }
 },
 "nbformat": 4,
 "nbformat_minor": 5
}
