{
 "cells": [
  {
   "metadata": {
    "ExecuteTime": {
     "end_time": "2025-06-11T17:36:13.894447Z",
     "start_time": "2025-06-11T17:36:11.868374Z"
    }
   },
   "cell_type": "code",
   "source": [
    "import keras\n",
    "import numpy as np\n",
    "from colorist import BgColorRGB\n",
    "from keras.src.utils import load_img, img_to_array\n",
    "\n",
    "def rgb_to_tuple(rgb):\n",
    "    return (\n",
    "        int(min(max(rgb[0] * 255,0),255)), int(min(max(rgb[1] * 255,0),255)), int(min(max(rgb[2] * 255,0),255))\n",
    "    )\n",
    "\n",
    "model = keras.models.load_model('model.keras')\n",
    "\n",
    "def hex_to_rgb(hex_color):\n",
    "    return [int(hex_color[i:i+2], 16)/255.0 for i in (0, 2, 4)]\n",
    "\n",
    "def f(t):\n",
    "    delta = 6/29\n",
    "    return np.where(t > delta**3, np.cbrt(t), (t / (3 * delta**2)) + (4/29))\n",
    "\n",
    "def inv_f(t):\n",
    "    delta = 6/29\n",
    "    return np.where(t > delta, t**3, 3 * delta**2 * (t - 4/29))\n",
    "\n",
    "def inv_gamma_correct(c):\n",
    "    return np.where(c <= 0.0031308, 12.92 * c, 1.055 * np.power(c, 1/2.4) - 0.055)\n",
    "\n",
    "def lab_normalize(lab):\n",
    "    return (lab + np.array([0, 128, 128])) / np.array([100, 255, 255])\n",
    "\n",
    "def lab_unnorm(lab):\n",
    "    return lab * np.array([100, 255, 255]) - np.array([0, 128, 128])\n",
    "\n",
    "def lab_to_rgb(lab):\n",
    "    L, a, b = lab\n",
    "    fy = (L + 16) / 116\n",
    "    fx = fy + a / 500\n",
    "    fz = fy - b / 200\n",
    "    xyz = np.array([\n",
    "        0.95047 * inv_f(fx),\n",
    "        1.00000 * inv_f(fy),\n",
    "        1.08883 * inv_f(fz)\n",
    "    ])\n",
    "    rgb_lin = np.array([\n",
    "        3.2406 * xyz[0] - 1.5372 * xyz[1] - 0.4986 * xyz[2],\n",
    "        -0.9689 * xyz[0] + 1.8758 * xyz[1] + 0.0415 * xyz[2],\n",
    "        0.0557 * xyz[0] - 0.2040 * xyz[1] + 1.0570 * xyz[2]\n",
    "    ])\n",
    "    rgb = inv_gamma_correct(np.clip(rgb_lin, 0, 1))\n",
    "    return np.clip(rgb, 0, 1)\n",
    "\n",
    "def rgb_to_hex(rgb):\n",
    "    return '#{:02x}{:02x}{:02x}'.format(int(rgb[0]*255), int(rgb[1]*255), int(rgb[2]*255))\n",
    "\n",
    "def convert_lab(image):\n",
    "    mask = image > 0.04045\n",
    "    img_linear = np.where(mask, ((image + 0.055) / 1.055) ** 2.4, image / 12.92)\n",
    "    R, G, B = img_linear[..., 0], img_linear[..., 1], img_linear[..., 2]\n",
    "    X = (0.4124564 * R + 0.3575761 * G + 0.1804375 * B) / 0.950489\n",
    "    Y = (0.2126729 * R + 0.7151522 * G + 0.0721750 * B) / 1.0\n",
    "    Z = (0.0193339 * R + 0.1191920 * G + 0.9503041 * B) / 1.088840\n",
    "    X, Y, Z = f(X), f(Y), f(Z)\n",
    "    L = 116.0 * Y - 16.0\n",
    "    a = 500.0 * (X - Y)\n",
    "    b = 200.0 * (Y - Z)\n",
    "    return np.stack([L, a, b], axis=-1)\n",
    "\n"
   ],
   "id": "fbc121e30a2defb3",
   "outputs": [
    {
     "name": "stderr",
     "output_type": "stream",
     "text": [
      "2025-06-11 19:36:12.104912: I external/local_xla/xla/tsl/cuda/cudart_stub.cc:32] Could not find cuda drivers on your machine, GPU will not be used.\n",
      "2025-06-11 19:36:12.107122: I external/local_xla/xla/tsl/cuda/cudart_stub.cc:32] Could not find cuda drivers on your machine, GPU will not be used.\n",
      "2025-06-11 19:36:12.113466: E external/local_xla/xla/stream_executor/cuda/cuda_fft.cc:467] Unable to register cuFFT factory: Attempting to register factory for plugin cuFFT when one has already been registered\n",
      "WARNING: All log messages before absl::InitializeLog() is called are written to STDERR\n",
      "E0000 00:00:1749663372.123970   21092 cuda_dnn.cc:8579] Unable to register cuDNN factory: Attempting to register factory for plugin cuDNN when one has already been registered\n",
      "E0000 00:00:1749663372.127168   21092 cuda_blas.cc:1407] Unable to register cuBLAS factory: Attempting to register factory for plugin cuBLAS when one has already been registered\n",
      "W0000 00:00:1749663372.136012   21092 computation_placer.cc:177] computation placer already registered. Please check linkage and avoid linking the same target more than once.\n",
      "W0000 00:00:1749663372.136026   21092 computation_placer.cc:177] computation placer already registered. Please check linkage and avoid linking the same target more than once.\n",
      "W0000 00:00:1749663372.136028   21092 computation_placer.cc:177] computation placer already registered. Please check linkage and avoid linking the same target more than once.\n",
      "W0000 00:00:1749663372.136029   21092 computation_placer.cc:177] computation placer already registered. Please check linkage and avoid linking the same target more than once.\n",
      "2025-06-11 19:36:12.139078: I tensorflow/core/platform/cpu_feature_guard.cc:210] This TensorFlow binary is optimized to use available CPU instructions in performance-critical operations.\n",
      "To enable the following instructions: AVX2 FMA, in other operations, rebuild TensorFlow with the appropriate compiler flags.\n",
      "2025-06-11 19:36:13.776653: E external/local_xla/xla/stream_executor/cuda/cuda_platform.cc:51] failed call to cuInit: INTERNAL: CUDA error: Failed call to cuInit: UNKNOWN ERROR (303)\n"
     ]
    }
   ],
   "execution_count": 1
  },
  {
   "metadata": {
    "ExecuteTime": {
     "end_time": "2025-06-11T17:36:20.926407Z",
     "start_time": "2025-06-11T17:36:20.594500Z"
    }
   },
   "cell_type": "code",
   "source": [
    "image_path = \"/home/drabcio/Pobrane/OneDrive_1_26.04.2025/PhotosColorPicker/000000203107.jpg\"\n",
    "image = load_img(image_path, target_size=(64, 64))\n",
    "img_array = img_to_array(image) / 255.0\n",
    "\n",
    "#lab\n",
    "# lab_image = convert_lab(img_array)\n",
    "# lab_normed = lab_normalize(lab_image)\n",
    "# input_arr = np.expand_dims(lab_normed, axis=0)\n",
    "# prediction = model.predict(input_arr)[0]\n",
    "#\n",
    "#rgb\n",
    "#input_arr = np.expand_dims(img_array, axis=0)\n",
    "#prediction = model.predict(input_arr)[0]\n",
    "input_arr = np.expand_dims(img_array, axis=0)\n",
    "prediction = model.predict(input_arr)[0]\n",
    "lab_pred = lab_unnorm(prediction)\n",
    "rgb_pred = lab_to_rgb(lab_pred)\n",
    "pred_hex = rgb_to_hex(rgb_pred)"
   ],
   "id": "b192fc269f84332c",
   "outputs": [
    {
     "name": "stdout",
     "output_type": "stream",
     "text": [
      "\u001B[1m1/1\u001B[0m \u001B[32m━━━━━━━━━━━━━━━━━━━━\u001B[0m\u001B[37m\u001B[0m \u001B[1m0s\u001B[0m 57ms/step\n"
     ]
    },
    {
     "ename": "ValueError",
     "evalue": "operands could not be broadcast together with shapes (15,) (3,) ",
     "output_type": "error",
     "traceback": [
      "\u001B[31m---------------------------------------------------------------------------\u001B[39m",
      "\u001B[31mValueError\u001B[39m                                Traceback (most recent call last)",
      "\u001B[36mCell\u001B[39m\u001B[36m \u001B[39m\u001B[32mIn[2]\u001B[39m\u001B[32m, line 16\u001B[39m\n\u001B[32m     14\u001B[39m input_arr = np.expand_dims(img_array, axis=\u001B[32m0\u001B[39m)\n\u001B[32m     15\u001B[39m prediction = model.predict(input_arr)[\u001B[32m0\u001B[39m]\n\u001B[32m---> \u001B[39m\u001B[32m16\u001B[39m lab_pred = \u001B[43mlab_unnorm\u001B[49m\u001B[43m(\u001B[49m\u001B[43mprediction\u001B[49m\u001B[43m)\u001B[49m\n\u001B[32m     17\u001B[39m rgb_pred = lab_to_rgb(lab_pred)\n\u001B[32m     18\u001B[39m pred_hex = rgb_to_hex(rgb_pred)\n",
      "\u001B[36mCell\u001B[39m\u001B[36m \u001B[39m\u001B[32mIn[1]\u001B[39m\u001B[32m, line 31\u001B[39m, in \u001B[36mlab_unnorm\u001B[39m\u001B[34m(lab)\u001B[39m\n\u001B[32m     30\u001B[39m \u001B[38;5;28;01mdef\u001B[39;00m\u001B[38;5;250m \u001B[39m\u001B[34mlab_unnorm\u001B[39m(lab):\n\u001B[32m---> \u001B[39m\u001B[32m31\u001B[39m     \u001B[38;5;28;01mreturn\u001B[39;00m \u001B[43mlab\u001B[49m\u001B[43m \u001B[49m\u001B[43m*\u001B[49m\u001B[43m \u001B[49m\u001B[43mnp\u001B[49m\u001B[43m.\u001B[49m\u001B[43marray\u001B[49m\u001B[43m(\u001B[49m\u001B[43m[\u001B[49m\u001B[32;43m100\u001B[39;49m\u001B[43m,\u001B[49m\u001B[43m \u001B[49m\u001B[32;43m255\u001B[39;49m\u001B[43m,\u001B[49m\u001B[43m \u001B[49m\u001B[32;43m255\u001B[39;49m\u001B[43m]\u001B[49m\u001B[43m)\u001B[49m - np.array([\u001B[32m0\u001B[39m, \u001B[32m128\u001B[39m, \u001B[32m128\u001B[39m])\n",
      "\u001B[31mValueError\u001B[39m: operands could not be broadcast together with shapes (15,) (3,) "
     ]
    }
   ],
   "execution_count": 2
  },
  {
   "metadata": {
    "ExecuteTime": {
     "end_time": "2025-06-09T20:33:26.045607Z",
     "start_time": "2025-06-09T20:33:26.042326Z"
    }
   },
   "cell_type": "code",
   "source": [
    "rgb = rgb_to_tuple(rgb_pred)\n",
    "color = BgColorRGB(rgb[0], rgb[1], rgb[2])\n",
    "\n",
    "print(\"lab:\",lab_pred)\n",
    "print(\"Predicted color:\", pred_hex)\n",
    "print(f\"{color}   {color.OFF}\")\n",
    "print(f\"{color}   {color.OFF}\")\n",
    "print(f\"{color}   {color.OFF}\")"
   ],
   "id": "dc5477ca6a3fb10e",
   "outputs": [
    {
     "name": "stdout",
     "output_type": "stream",
     "text": [
      "lab: [ 68.84066463 -21.33372727  17.21031767]\n",
      "Predicted color: #8bb188\n",
      "\u001B[48;2;139;177;136m   \u001B[0m\n",
      "\u001B[48;2;139;177;136m   \u001B[0m\n",
      "\u001B[48;2;139;177;136m   \u001B[0m\n"
     ]
    }
   ],
   "execution_count": 3
  }
 ],
 "metadata": {
  "kernelspec": {
   "display_name": "Python 3",
   "language": "python",
   "name": "python3"
  },
  "language_info": {
   "codemirror_mode": {
    "name": "ipython",
    "version": 2
   },
   "file_extension": ".py",
   "mimetype": "text/x-python",
   "name": "python",
   "nbconvert_exporter": "python",
   "pygments_lexer": "ipython2",
   "version": "2.7.6"
  }
 },
 "nbformat": 4,
 "nbformat_minor": 5
}
